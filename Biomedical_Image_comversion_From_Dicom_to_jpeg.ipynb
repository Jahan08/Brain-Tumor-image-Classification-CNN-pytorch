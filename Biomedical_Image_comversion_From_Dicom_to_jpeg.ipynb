{
  "nbformat": 4,
  "nbformat_minor": 0,
  "metadata": {
    "colab": {
      "provenance": [],
      "authorship_tag": "ABX9TyPm5z/TpI9umzK8tuVGLKOe",
      "include_colab_link": true
    },
    "kernelspec": {
      "name": "python3",
      "display_name": "Python 3"
    },
    "language_info": {
      "name": "python"
    }
  },
  "cells": [
    {
      "cell_type": "markdown",
      "metadata": {
        "id": "view-in-github",
        "colab_type": "text"
      },
      "source": [
        "<a href=\"https://colab.research.google.com/github/Jahan08/Brain-Tumor-image-Classification-CNN-pytorch/blob/main/Biomedical_Image_comversion_From_Dicom_to_jpeg.ipynb\" target=\"_parent\"><img src=\"https://colab.research.google.com/assets/colab-badge.svg\" alt=\"Open In Colab\"/></a>"
      ]
    },
    {
      "cell_type": "code",
      "execution_count": null,
      "metadata": {
        "id": "oDR9-6srku9T"
      },
      "outputs": [],
      "source": [
        "import pydicom\n",
        "from PIL import Image\n",
        "import os\n",
        "\n",
        "def dicom_to_jpeg(dicom_path, output_path):\n",
        "    \"\"\"\n",
        "    Converts a DICOM image to JPEG format and saves it to the specified output path.\n",
        "\n",
        "    Args:\n",
        "        dicom_path (str): Path to the DICOM image file.\n",
        "        output_path (str): Path to save the converted JPEG image.\n",
        "    \"\"\"\n",
        "    ds = pydicom.dcmread(dicom_path)\n",
        "    image_array = ds.pixel_array\n",
        "    img = Image.fromarray(image_array)\n",
        "    img.save(output_path, \"JPEG\")\n",
        "\n",
        "def convert_folder(input_folder, output_folder):\n",
        "    \"\"\"\n",
        "    Converts all DICOM files in a folder to JPEG format and saves them to a new output folder.\n",
        "\n",
        "    Args:\n",
        "        input_folder (str): Path to the folder containing DICOM files.\n",
        "        output_folder (str): Path to save the converted JPEG images.\n",
        "    \"\"\"\n",
        "    if not os.path.exists(output_folder):\n",
        "        os.makedirs(output_folder)\n",
        "\n",
        "    for filename in os.listdir(input_folder):\n",
        "        if filename.endswith(\".dcm\"):\n",
        "            dicom_path = os.path.join(input_folder, filename)\n",
        "            output_file = os.path.join(output_folder, os.path.splitext(filename)[0] + \".jpg\")\n",
        "            dicom_to_jpeg(dicom_path, output_file)\n",
        "\n",
        "# Example usage\n",
        "input_dir = \"/path/to/dicom/folder\"\n",
        "output_dir = \"/path/to/output/folder\"\n",
        "convert_folder(input_dir, output_dir)"
      ]
    }
  ]
}